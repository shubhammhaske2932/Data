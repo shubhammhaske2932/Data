{
 "cells": [
  {
   "cell_type": "markdown",
   "id": "d37ae09d",
   "metadata": {},
   "source": [
    "# 1. Sort given list"
   ]
  },
  {
   "cell_type": "code",
   "execution_count": 15,
   "id": "305e4a85",
   "metadata": {},
   "outputs": [
    {
     "name": "stdout",
     "output_type": "stream",
     "text": [
      "Input: [11, 2, 33, 9, 0, 67, 5, 23]\n",
      "Output: [0, 2, 5, 9, 11, 23, 33, 67]\n"
     ]
    }
   ],
   "source": [
    "l = [11,2,33,9,0,67,5,23]\n",
    "print(\"Input:\",l)\n",
    "l1=[]\n",
    "\n",
    "for i in range (len(l)):\n",
    "    n = l[0]\n",
    "    for j in l:\n",
    "        if j < n:\n",
    "            n = j\n",
    "    l.remove(n)\n",
    "    l1.append(n)\n",
    "    \n",
    "print(\"Output:\",l1)"
   ]
  },
  {
   "cell_type": "markdown",
   "id": "0c85354c",
   "metadata": {},
   "source": [
    "# 2. Factorial"
   ]
  },
  {
   "cell_type": "code",
   "execution_count": 8,
   "id": "e27f3db7",
   "metadata": {},
   "outputs": [
    {
     "name": "stdout",
     "output_type": "stream",
     "text": [
      "Enter a Number:5\n",
      "Factorial of 5 is 120\n"
     ]
    }
   ],
   "source": [
    "n = int(input(\"Enter a Number:\"))\n",
    "fact = 1\n",
    "for i in range(1,6):\n",
    "    fact = fact * i\n",
    "print(f\"Factorial of {n} is {fact}\")"
   ]
  },
  {
   "cell_type": "markdown",
   "id": "a1b0c583",
   "metadata": {},
   "source": [
    "# 3. Reverse Numbers"
   ]
  },
  {
   "cell_type": "code",
   "execution_count": 13,
   "id": "94ff0636",
   "metadata": {},
   "outputs": [
    {
     "name": "stdout",
     "output_type": "stream",
     "text": [
      "Input: 123456\n",
      "Output: 654321\n"
     ]
    }
   ],
   "source": [
    "n = 123456\n",
    "print(\"Input:\",n)\n",
    "reverse = 0\n",
    "while n!=0:\n",
    "    reverse = reverse * 10 + n % 10\n",
    "    n = n // 10\n",
    "\n",
    "print(\"Output:\",reverse)"
   ]
  },
  {
   "cell_type": "markdown",
   "id": "6587317a",
   "metadata": {},
   "source": [
    "# 4. Find square of numbers by using map/filter function"
   ]
  },
  {
   "cell_type": "code",
   "execution_count": 11,
   "id": "0764faa0",
   "metadata": {},
   "outputs": [
    {
     "name": "stdout",
     "output_type": "stream",
     "text": [
      "Original List: [1, 2, 3, 4, 5, 6, 7, 8, 9, 10]\n"
     ]
    },
    {
     "data": {
      "text/plain": [
       "[1, 4, 9, 16, 25, 36, 49, 64, 81, 100]"
      ]
     },
     "execution_count": 11,
     "metadata": {},
     "output_type": "execute_result"
    }
   ],
   "source": [
    "l = [1,2,3,4,5,6,7,8,9,10]\n",
    "print(\"Original List:\",l)\n",
    "list(map(lambda x: x**2,l))"
   ]
  },
  {
   "cell_type": "markdown",
   "id": "4c97b50a",
   "metadata": {},
   "source": [
    "# 5. Fibanacci Series"
   ]
  },
  {
   "cell_type": "code",
   "execution_count": 18,
   "id": "cc7d9b91",
   "metadata": {},
   "outputs": [
    {
     "name": "stdout",
     "output_type": "stream",
     "text": [
      "Enter a Number :10\n",
      "Fibanacci Series: [0, 1, 1, 2, 3, 5, 8, 13, 21, 34]\n"
     ]
    }
   ],
   "source": [
    "n = int(input(\"Enter a Number :\"))\n",
    "fib = [0,1]\n",
    "for x in range (2,n):\n",
    "    fib.append(sum(fib[-2:]))\n",
    "print(\"Fibanacci Series:\",fib)"
   ]
  },
  {
   "cell_type": "code",
   "execution_count": 19,
   "id": "10a0612f",
   "metadata": {},
   "outputs": [
    {
     "name": "stdout",
     "output_type": "stream",
     "text": [
      "[[1, 2, 3, 4, 5], [6, 7, 8, 9, 10], [11, 12, 13, 14, 15], [16, 17, 18, 19, 20], [21, 22, 23, 24, 25]]\n"
     ]
    }
   ],
   "source": [
    "l = [[5*j + i for i in range (1,6)]for j in range (5)]\n",
    "print(l)"
   ]
  },
  {
   "cell_type": "markdown",
   "id": "c6c5f3b7",
   "metadata": {},
   "source": [
    "# 7. Swapping of two numbers using third variable in Python language"
   ]
  },
  {
   "cell_type": "code",
   "execution_count": 20,
   "id": "3b258c29",
   "metadata": {},
   "outputs": [
    {
     "name": "stdout",
     "output_type": "stream",
     "text": [
      "please give first number a: 25\n",
      "please give second number b: 70\n",
      "After swapping\n",
      "value of a is :  70\n",
      "value of b is :  25\n"
     ]
    }
   ],
   "source": [
    "a = int(input(\"please give first number a: \"))\n",
    "b = int(input(\"please give second number b: \"))\n",
    "tempvar=a\n",
    "a=b\n",
    "b=tempvar\n",
    "print(\"After swapping\")\n",
    "print(\"value of a is : \", a);\n",
    "print(\"value of b is : \", b); "
   ]
  },
  {
   "cell_type": "markdown",
   "id": "227426ff",
   "metadata": {},
   "source": [
    "# 8. Python Program to calculate the power without using POW function"
   ]
  },
  {
   "cell_type": "code",
   "execution_count": 21,
   "id": "84a628e5",
   "metadata": {},
   "outputs": [
    {
     "name": "stdout",
     "output_type": "stream",
     "text": [
      "Enter the value for base :5\n",
      "Enter the value for exponent :4\n",
      "5 to power  4 = 625\n"
     ]
    }
   ],
   "source": [
    "#taking 3 integer as input from the user\n",
    "base = int(input(\"Enter the value for base :\"))\n",
    "exponent = int(input(\"Enter the value for exponent :\"))\n",
    "result=1;\n",
    "print(base,\"to power \",exponent,\"=\",end = ' ')\n",
    "#using ‘for’ loop with ‘range’ function\n",
    "for exponent in range(exponent, 0, -1):\n",
    "    result *= base\n",
    "print(result)"
   ]
  },
  {
   "cell_type": "code",
   "execution_count": null,
   "id": "96f47ad1",
   "metadata": {},
   "outputs": [],
   "source": [
    "https://quescol.com/interview-preparation/python-coding-question#"
   ]
  }
 ],
 "metadata": {
  "kernelspec": {
   "display_name": "Python 3",
   "language": "python",
   "name": "python3"
  },
  "language_info": {
   "codemirror_mode": {
    "name": "ipython",
    "version": 3
   },
   "file_extension": ".py",
   "mimetype": "text/x-python",
   "name": "python",
   "nbconvert_exporter": "python",
   "pygments_lexer": "ipython3",
   "version": "3.8.8"
  }
 },
 "nbformat": 4,
 "nbformat_minor": 5
}
