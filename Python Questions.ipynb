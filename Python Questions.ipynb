{
 "cells": [
  {
   "cell_type": "code",
   "execution_count": 1,
   "id": "b3be1e8f",
   "metadata": {},
   "outputs": [
    {
     "name": "stdout",
     "output_type": "stream",
     "text": [
      "[1, 3, 5, 12, 21, 41, 42, 78]\n"
     ]
    }
   ],
   "source": [
    "l=[12,3,41,5,21,78,42,1]\n",
    "l1=[]\n",
    "for x in range (len(l)):\n",
    "    n=l[0]\n",
    "    for y in l:\n",
    "        if y<n:\n",
    "            n=y\n",
    "    l1.append(n)\n",
    "    l.remove(n)\n",
    "print(l1) "
   ]
  },
  {
   "cell_type": "code",
   "execution_count": 2,
   "id": "c3ba8ada",
   "metadata": {},
   "outputs": [
    {
     "name": "stdout",
     "output_type": "stream",
     "text": [
      "[1, 3, 5, 12, 21, 41, 42, 78]\n"
     ]
    }
   ],
   "source": [
    "l=[12,3,41,5,21,78,42,1]\n",
    "for x in range (len(l)):\n",
    "    min_value=min(l[x:])\n",
    "    min_index=l.index(min_value)\n",
    "    l[x],l[min_index]=l[min_index],l[x]\n",
    "print(l)"
   ]
  },
  {
   "cell_type": "markdown",
   "id": "1bed1682",
   "metadata": {},
   "source": [
    "# WAP to take dictionary from the keyboard and print sum of values?"
   ]
  },
  {
   "cell_type": "markdown",
   "id": "a6acc54f",
   "metadata": {},
   "source": [
    "n=int(input(\"Enter a length of dict:\"))\n",
    "d={}\n",
    "sum=0\n",
    "for x in range (n):\n",
    "    key=(input(\"Enter a Key:\"))\n",
    "    value=int(input(\"Enter a value:\"))\n",
    "    d[key]=value\n",
    "    \n",
    "print(d)\n",
    "\n",
    "for k,v in d.items():\n",
    "    sum=sum+v\n",
    "print(sum)"
   ]
  },
  {
   "cell_type": "markdown",
   "id": "17a411da",
   "metadata": {},
   "source": [
    "# WAP to find no. of occurence of each vowels present in the given string?"
   ]
  },
  {
   "cell_type": "code",
   "execution_count": null,
   "id": "5d3a832a",
   "metadata": {},
   "outputs": [],
   "source": [
    "s=input(\"Enter a string:\").lower()\n",
    "vow=\"aeiou\"\n",
    "d={}\n",
    "for x in s:\n",
    "    if x in vow:\n",
    "        d[x]=d.get(x,0)+1\n",
    "        \n",
    "        \n",
    "for k,v in d.items():\n",
    "    print(f\"{k} Occurs {v} time in the given string\")"
   ]
  },
  {
   "cell_type": "markdown",
   "id": "27da187e",
   "metadata": {},
   "source": [
    "n=int(input(\"Enter a Number:\"))\n",
    "fra_no = 1\n",
    "for x in range (1,n+1):\n",
    "    fra_no = fra_no * x\n",
    "        \n",
    "print(f\"Number {n} fraction is {fra_no}\")"
   ]
  },
  {
   "cell_type": "code",
   "execution_count": null,
   "id": "1c303a38",
   "metadata": {},
   "outputs": [],
   "source": []
  }
 ],
 "metadata": {
  "kernelspec": {
   "display_name": "Python 3",
   "language": "python",
   "name": "python3"
  },
  "language_info": {
   "codemirror_mode": {
    "name": "ipython",
    "version": 3
   },
   "file_extension": ".py",
   "mimetype": "text/x-python",
   "name": "python",
   "nbconvert_exporter": "python",
   "pygments_lexer": "ipython3",
   "version": "3.8.8"
  }
 },
 "nbformat": 4,
 "nbformat_minor": 5
}
